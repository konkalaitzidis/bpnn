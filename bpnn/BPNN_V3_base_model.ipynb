{
 "cells": [
  {
   "cell_type": "code",
   "execution_count": null,
   "id": "ec7e9fa9-2385-4d0c-9800-2465943a717e",
   "metadata": {},
   "outputs": [],
   "source": [
    "import tensorflow.compat.v1 as tf\n",
    "# #Lets see if tensorflow finds the GPU\n",
    "print(\"Num GPUs Available: \", len(tf.config.list_physical_devices('GPU')))\n",
    "#import tensorflow as tf"
   ]
  },
  {
   "cell_type": "code",
   "execution_count": null,
   "id": "d6dd3754-8d54-4947-a94c-ace684a94cb3",
   "metadata": {},
   "outputs": [],
   "source": [
    "#Lets see if it works\n",
    "tf.ones(1) + tf.ones(1)"
   ]
  },
  {
   "cell_type": "code",
   "execution_count": null,
   "id": "f9f494a0-5c24-4fa3-8487-ea4e41006551",
   "metadata": {},
   "outputs": [],
   "source": [
    "import numpy as np # for working with arrays and matrices\n",
    "import pandas as pd # for data manipulation and analysis\n",
    "import matplotlib.pyplot as plt # for data visualization\n",
    "import seaborn as sns # for data visualization\n",
    "import time # for time-related functions\n",
    "import random # for random number generation\n",
    "import cv2 # for computer vision and image processing tasks\n",
    "import datetime # for saving date and time information\n",
    "import csv\n",
    "import os # OS module provides various operating system-related functions to the code\n",
    "\n",
    "\n",
    "\n",
    "# # Loading functions\n",
    "from load_calcium_video import load_video_data\n",
    "from pixel_values_normalization import normalize_video\n",
    "from align_behavior_to_calcium import align_files\n",
    "from class_balance import check_class_imbalance\n",
    "from preprocessing_model import model_preprocessing\n",
    "from save_model_info import save_training_info\n",
    "# from set_s3_connection import generate_s3_url\n",
    "from plots import plot_first_frames, plot_random_frames\n",
    "from class_balance import check_distribution_among_datasets\n",
    "\n",
    "\n",
    "from construct_base_model import base_model\n",
    "from run_base_model import base_model_execution\n",
    "# from BPNN__base.V2_base_plots_pipeline import \n",
    "\n",
    "from tensorflow.keras.optimizers.legacy import Adam\n",
    "from tensorflow.keras import datasets, layers, models\n",
    "from tensorflow.keras.utils import plot_model\n",
    "from tensorflow.keras.callbacks import EarlyStopping\n",
    "import imgaug.augmenters as iaa\n",
    "\n",
    "\n",
    "\n",
    "from urllib.parse import urlparse\n",
    "from urllib.parse import urlparse\n",
    "from ann_visualizer.visualize import ann_viz\n",
    "import importlib\n",
    "import sys\n",
    "\n",
    "import IPython\n",
    "from IPython.display import display, Javascript\n",
    "\n",
    "\n"
   ]
  },
  {
   "cell_type": "code",
   "execution_count": null,
   "id": "a187288c-f135-4a6c-b2bb-6a99efbcb2a9",
   "metadata": {},
   "outputs": [],
   "source": [
    "# Goal:\n",
    "experiment_name = \"Repeat comparison, between regular and base models, corridor location labels, 20% val - 80% train\"\n",
    "experiment_ID = '2.9'\n",
    "%store experiment_ID\n",
    "comment = \"To compare with BPNN_V3... \"+str(experiment_name)\n",
    "train_test_split_strategy = \"20% val - 80% train\"\n",
    "name = 'BPNN_V3_base'\n",
    "model_version = str(name)+'_1'"
   ]
  },
  {
   "cell_type": "code",
   "execution_count": null,
   "id": "ae5a47a2-c628-4c1a-becd-93b57e61ffe3",
   "metadata": {},
   "outputs": [],
   "source": [
    "# Define the name of the output directory\n",
    "output_dir = \"output_base\"\n",
    "\n",
    "# Check if the output directory already exists\n",
    "if not os.path.exists(output_dir):\n",
    "    # Create the output directory\n",
    "    os.mkdir(output_dir)\n",
    "\n",
    "    # Create the balance, accuracy, loss, and cm directories inside the output directory\n",
    "    os.mkdir(os.path.join(output_dir, \"balance\"))\n",
    "    os.mkdir(os.path.join(output_dir, \"accuracy\"))\n",
    "    os.mkdir(os.path.join(output_dir, \"loss\"))\n",
    "    os.mkdir(os.path.join(output_dir, \"cm\"))\n",
    "    os.mkdir(os.path.join(output_dir, \"architecture\"))\n",
    "    os.mkdir(os.path.join(output_dir, \"pickles\"))\n",
    "else:\n",
    "    print(f\"The directory {output_dir} already exists.\")"
   ]
  },
  {
   "cell_type": "code",
   "execution_count": null,
   "id": "18bbb015-8fad-45c2-9bc7-aadaea312cd8",
   "metadata": {},
   "outputs": [],
   "source": [
    "s3_calcium_url = 'https://s3.ki.se/dmc-striatum-arrowmaze/processed-data/miniscope-recordings/export-to-nwb/animal3learnday11/20211028_181307_animal3learnday11.nwb?AWSAccessKeyId=5AMYRX4EUZ0MV0276K24&Signature=3WXWM%2Ff3QBZ82lighTDw6fSonyM%3D&Expires=1681725833'"
   ]
  },
  {
   "cell_type": "code",
   "execution_count": null,
   "id": "e6dd04e7-b5f2-43aa-8991-75c9f40ea6a8",
   "metadata": {},
   "outputs": [],
   "source": [
    "# # Parse animal and learning day information\n",
    "video_name = os.path.basename(os.path.dirname(urlparse(s3_calcium_url).path))\n",
    "print(video_name) # Output: animal1learnday1"
   ]
  },
  {
   "cell_type": "code",
   "execution_count": null,
   "id": "68929428-c972-409b-863c-9713e01af392",
   "metadata": {},
   "outputs": [],
   "source": [
    "video_data = load_video_data(s3_calcium_url)"
   ]
  },
  {
   "cell_type": "code",
   "execution_count": null,
   "id": "227baf69-4cee-4ade-a55e-da76ee4afb99",
   "metadata": {},
   "outputs": [],
   "source": [
    "min_frame = np.min(video_data, axis=0)\n",
    "video_data = video_data - min_frame"
   ]
  },
  {
   "cell_type": "code",
   "execution_count": null,
   "id": "64121a3a-4579-465f-9128-03fbd002eb73",
   "metadata": {},
   "outputs": [],
   "source": [
    "images = normalize_video(video_data)"
   ]
  },
  {
   "cell_type": "code",
   "execution_count": null,
   "id": "5cd3c43e-813d-425b-a58b-d809c87984f6",
   "metadata": {},
   "outputs": [],
   "source": [
    "# Check if the video has been loaded correctly and normalized\n",
    "images[:1]"
   ]
  },
  {
   "cell_type": "code",
   "execution_count": null,
   "id": "e3720ab1-5bd4-4d6d-8779-630727fe2fb1",
   "metadata": {},
   "outputs": [],
   "source": [
    "# Determine the size of the calcium video dataset\n",
    "num_of_frames = images.shape[0]\n",
    "img_height = images.shape[1]\n",
    "img_width = images.shape[2]\n",
    "print(\"The number of video frames is \", num_of_frames, \" and the frame dimensions (height x width) are: \", img_height, \"X\", img_width)"
   ]
  },
  {
   "cell_type": "code",
   "execution_count": null,
   "id": "970a6806-2d66-4a4d-b338-59c03a3daaff",
   "metadata": {},
   "outputs": [],
   "source": [
    "# Preparing bonsai data file.\n",
    "# CSV with additional data from the behavior box, such as reward deliveries. Also includes information needed for synchronizing the calcium and behavioral recordings.\n",
    "bonsai_data = pd.read_csv('/home/dmc/Desktop/kostas/direct-Behavior-prediction-from-miniscope-calcium-imaging-using-convolutional-neural-networks/data/tmaze_2021-10-28T18_13_23.csv', header=None)\n",
    "# Segmentation of each frame into one behavior class.\n",
    "df_behavior = pd.read_hdf('/home/dmc/Desktop/kostas/direct-Behavior-prediction-from-miniscope-calcium-imaging-using-convolutional-neural-networks/data/20211028_181307_animal3learnday11.h5', 'per_frame')"
   ]
  },
  {
   "cell_type": "code",
   "execution_count": null,
   "id": "eb44381e-1edb-479d-91d2-2160e91beea1",
   "metadata": {},
   "outputs": [],
   "source": [
    "df_new_annotations, df_unique_states = align_files(bonsai_data, df_behavior)"
   ]
  },
  {
   "cell_type": "code",
   "execution_count": null,
   "id": "7736cbfb-513d-4882-869b-f942a91433e9",
   "metadata": {},
   "outputs": [],
   "source": [
    "df_new_annotations_unique = df_new_annotations.unique()\n",
    "df_new_annotations_unique"
   ]
  },
  {
   "cell_type": "code",
   "execution_count": null,
   "id": "68319f3b-5c00-497a-a0a1-0de6832f4411",
   "metadata": {},
   "outputs": [],
   "source": [
    "save_dir = \"/home/dmc/Desktop/kostas/direct-Behavior-prediction-from-miniscope-calcium-imaging-using-convolutional-neural-networks/src/V3/output-base/balance\""
   ]
  },
  {
   "cell_type": "code",
   "execution_count": null,
   "id": "62210f48-d94c-41a0-9c7b-3ce2361a732a",
   "metadata": {},
   "outputs": [],
   "source": [
    "class_counts, total_counts = check_class_imbalance(df_new_annotations, experiment_ID, save_dir)"
   ]
  },
  {
   "cell_type": "code",
   "execution_count": null,
   "id": "1492d31c-e756-4a42-ae53-81be1c39594b",
   "metadata": {},
   "outputs": [],
   "source": [
    "# Training Parameters\n",
    "channel_dimension = 1\n",
    "labels = df_new_annotations\n",
    "epochs = 20\n",
    "batch_size = 32"
   ]
  },
  {
   "cell_type": "code",
   "execution_count": null,
   "id": "6b285e1a-090a-4938-b87f-1513bae21916",
   "metadata": {},
   "outputs": [],
   "source": [
    "images.shape"
   ]
  },
  {
   "cell_type": "code",
   "execution_count": null,
   "id": "28fee864-472d-42f0-b0bd-42093394fc81",
   "metadata": {},
   "outputs": [],
   "source": [
    "# # Split the data into training and validation sets\n",
    "split_index = int(0.2 * len(images))  # Index to split data\n",
    "val_images, train_images = images[:split_index], images[split_index:]\n",
    "val_labels, train_labels = labels[:split_index], labels[split_index:]"
   ]
  },
  {
   "cell_type": "code",
   "execution_count": null,
   "id": "74fe1abc-0d24-430b-ac11-06ae499bed31",
   "metadata": {},
   "outputs": [],
   "source": [
    "check_distribution_among_datasets(val_labels, experiment_ID, save_dir, dataset_type = 'Validation_set')\n",
    "check_distribution_among_datasets(train_labels, experiment_ID, save_dir, dataset_type = 'Training_set')"
   ]
  },
  {
   "cell_type": "code",
   "execution_count": null,
   "id": "da7bc058-182d-4e4d-990c-6c4b1e5e1451",
   "metadata": {},
   "outputs": [],
   "source": [
    "train_images, val_images, train_labels, val_labels, num_classes = model_preprocessing(train_images, val_images, train_labels, val_labels, df_new_annotations_unique)"
   ]
  },
  {
   "cell_type": "code",
   "execution_count": null,
   "id": "b0d8cd57-3590-4f33-950c-67d5a01c9492",
   "metadata": {},
   "outputs": [],
   "source": [
    "vmin = 0\n",
    "vmax = 0.20"
   ]
  },
  {
   "cell_type": "code",
   "execution_count": null,
   "id": "5e618063-1b99-4f3c-b157-eeff97e3b210",
   "metadata": {},
   "outputs": [],
   "source": [
    "# # Plot the first 5 images\n",
    "plot_first_frames(train_images, train_labels, vmin, vmax)\n",
    "plot_first_frames(val_images, val_labels, vmin, vmax)"
   ]
  },
  {
   "cell_type": "code",
   "execution_count": null,
   "id": "0b67a54a-5457-4497-a61f-b712e2132c5b",
   "metadata": {},
   "outputs": [],
   "source": [
    "plot_random_frames(train_images, train_labels, vmin, vmax)\n",
    "plot_random_frames(val_images, val_labels, vmin, vmax)"
   ]
  },
  {
   "cell_type": "code",
   "execution_count": null,
   "id": "c1f6b699-f19d-434a-8907-54bd6671e37d",
   "metadata": {},
   "outputs": [],
   "source": [
    "input_shape = (img_height, img_width, channel_dimension)\n",
    "input_shape"
   ]
  },
  {
   "cell_type": "code",
   "execution_count": null,
   "id": "9bac90dc-b33d-4563-8695-874bb8d72616",
   "metadata": {},
   "outputs": [],
   "source": [
    "base_model = base_model(num_classes, name, input_shape)"
   ]
  },
  {
   "cell_type": "code",
   "execution_count": null,
   "id": "12386df1-189f-442f-8f40-f0f1de6357f3",
   "metadata": {},
   "outputs": [],
   "source": [
    "# plot_model(base_model, to_file='base_model_plot.png', show_shapes=False, show_layer_names=False)"
   ]
  },
  {
   "cell_type": "code",
   "execution_count": null,
   "id": "80af8d8a-fb46-40d6-bee2-86f62f06f345",
   "metadata": {},
   "outputs": [],
   "source": [
    "# dir_name = \"/home/dmc/Desktop/kostas/direct-Behavior-prediction-from-miniscope-calcium-imaging-using-convolutional-neural-networks/src/V2/output/architecture\"\n",
    "# plot_name = f\"{name}_architecture\"\n",
    "# ann_viz(base_model, view=True, filename=plot_name, title=\"CNN — \"+str(name)+\" — Simple Architecture\")\n",
    "# plot_path = os.path.join(dir_name, f\"{plot_name}.png\")\n",
    "# plot = plt.gcf()\n",
    "# plot.savefig(plot_path, dpi=300, bbox_inches=\"tight\")"
   ]
  },
  {
   "cell_type": "code",
   "execution_count": null,
   "id": "97759b0e-76f6-4793-a98a-8ccb2d252a85",
   "metadata": {},
   "outputs": [],
   "source": [
    "validation_data=(val_images, val_labels)"
   ]
  },
  {
   "cell_type": "code",
   "execution_count": null,
   "id": "91809241-1bdc-47f4-a986-7cde6617bdce",
   "metadata": {},
   "outputs": [],
   "source": [
    "base_params = {\n",
    "    'model': base_model,\n",
    "    'tf': tf,\n",
    "    'train_images': train_images,\n",
    "    'train_labels': train_labels,\n",
    "    'epochs': epochs,\n",
    "    'batch_size': batch_size,\n",
    "    'validation_data': validation_data,\n",
    "    'val_images': validation_data[0],\n",
    "    'val_labels': validation_data[1]\n",
    "}"
   ]
  },
  {
   "cell_type": "code",
   "execution_count": null,
   "id": "bbe7dfba-7ced-49f1-8bb3-c1854c43210c",
   "metadata": {},
   "outputs": [],
   "source": [
    "save_dir = \"/home/dmc/Desktop/kostas/direct-Behavior-prediction-from-miniscope-calcium-imaging-using-convolutional-neural-networks/src/V3/output-base/pickles\""
   ]
  },
  {
   "cell_type": "code",
   "execution_count": null,
   "id": "5b5b2e1a-6280-4881-88e3-e4c24effd1c4",
   "metadata": {},
   "outputs": [],
   "source": [
    "%store model_version"
   ]
  },
  {
   "cell_type": "code",
   "execution_count": null,
   "id": "34decbbe-f8e1-4ef4-86af-60e01e588249",
   "metadata": {},
   "outputs": [],
   "source": [
    "history = base_model_execution(base_params, save_dir, model_version)"
   ]
  },
  {
   "cell_type": "code",
   "execution_count": null,
   "id": "d510ed8a-1221-4a1e-8b38-eb1ab77467ba",
   "metadata": {},
   "outputs": [],
   "source": [
    "%store base_model\n",
    "%store history\n",
    "%store video_name\n",
    "%store comment\n",
    "%store experiment_ID\n",
    "%store save_dir"
   ]
  },
  {
   "cell_type": "code",
   "execution_count": null,
   "id": "f879fb69-fa36-48f9-a46f-3d00dfff8a51",
   "metadata": {},
   "outputs": [],
   "source": [
    "# save_training_info(base_model, base_history, video_name, comment, experiment_ID, save_dir, f1_score=None)"
   ]
  },
  {
   "cell_type": "code",
   "execution_count": null,
   "id": "167f9d55-9eee-4e2f-9f0f-0c298ce267ff",
   "metadata": {},
   "outputs": [],
   "source": []
  },
  {
   "cell_type": "code",
   "execution_count": null,
   "id": "257f6114-26ed-46bc-8b9c-b81c17b51a8c",
   "metadata": {},
   "outputs": [],
   "source": []
  },
  {
   "cell_type": "code",
   "execution_count": null,
   "id": "0ec9901a-2ba4-4e0f-b908-d4ace81ab530",
   "metadata": {},
   "outputs": [],
   "source": []
  },
  {
   "cell_type": "code",
   "execution_count": null,
   "id": "60a5a27b-7b18-448c-8d4a-e3f91a95275a",
   "metadata": {},
   "outputs": [],
   "source": []
  }
 ],
 "metadata": {
  "kernelspec": {
   "display_name": "Python 3 (ipykernel)",
   "language": "python",
   "name": "python3"
  },
  "language_info": {
   "codemirror_mode": {
    "name": "ipython",
    "version": 3
   },
   "file_extension": ".py",
   "mimetype": "text/x-python",
   "name": "python",
   "nbconvert_exporter": "python",
   "pygments_lexer": "ipython3",
   "version": "3.10.9"
  }
 },
 "nbformat": 4,
 "nbformat_minor": 5
}
